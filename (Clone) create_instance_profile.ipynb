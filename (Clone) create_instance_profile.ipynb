{
 "cells": [
  {
   "cell_type": "markdown",
   "metadata": {
    "application/vnd.databricks.v1+cell": {
     "cellMetadata": {
      "byteLimit": 2048000,
      "rowLimit": 10000
     },
     "inputWidgets": {},
     "nuid": "2dacea3b-800e-4470-9ce6-1334899b2aef",
     "showTitle": false,
     "title": ""
    }
   },
   "source": [
    "Step 1: Create an IAM Role with an Inline Policy for S3 Access\n"
   ]
  },
  {
   "cell_type": "code",
   "execution_count": 0,
   "metadata": {
    "application/vnd.databricks.v1+cell": {
     "cellMetadata": {},
     "inputWidgets": {},
     "nuid": "c62e0a27-cf07-4142-8357-0559ab89e2df",
     "showTitle": false,
     "title": ""
    }
   },
   "outputs": [],
   "source": [
    "aws_access_key_id = 'replace with your access key'\n",
    "aws_secret_access_key = 'replace with your secret key'\n",
    "iam_role_for_s3_access = 'ec2 role name that u want to create to access bucket'\n",
    "policy_name='policy name'\n",
    "s3_bucket_name = 'bucket name that u need to acess'\n",
    "workspace_id = 'workspaceid'\n",
    "#workspace_id2 = ''\n",
    "aws_account_id = 'AWS acc id'\n",
    "\n",
    "databricks_role_name = 'databricks workspace deployment role' #databricks workspace deployment role\n",
    "DATABRICKS_INSTANCE = \"databricks workspace url note: remove https:// \"\n",
    "DATABRICKS_TOKEN = \"databricks token\" \n",
    "     "
   ]
  },
  {
   "cell_type": "code",
   "execution_count": 0,
   "metadata": {
    "application/vnd.databricks.v1+cell": {
     "cellMetadata": {
      "byteLimit": 2048000,
      "rowLimit": 10000
     },
     "inputWidgets": {},
     "nuid": "5548c65d-ca4a-460a-a006-744511a3668b",
     "showTitle": false,
     "title": ""
    }
   },
   "outputs": [],
   "source": []
  },
  {
   "cell_type": "code",
   "execution_count": 0,
   "metadata": {
    "application/vnd.databricks.v1+cell": {
     "cellMetadata": {
      "byteLimit": 2048000,
      "rowLimit": 10000
     },
     "inputWidgets": {},
     "nuid": "aba4f3e4-c511-4a7e-8a31-8d3bfffc3c5e",
     "showTitle": false,
     "title": ""
    }
   },
   "outputs": [],
   "source": [
    "import boto3\n",
    "import json\n",
    "import requests"
   ]
  },
  {
   "cell_type": "code",
   "execution_count": 0,
   "metadata": {
    "application/vnd.databricks.v1+cell": {
     "cellMetadata": {
      "byteLimit": 2048000,
      "rowLimit": 10000
     },
     "inputWidgets": {},
     "nuid": "d46cff49-8bf2-44a3-96af-968557fd6b54",
     "showTitle": false,
     "title": ""
    }
   },
   "outputs": [],
   "source": [
    "def create_iam_client(aws_access_key_id, aws_secret_access_key):\n",
    "    return boto3.client(\n",
    "        'iam',\n",
    "        aws_access_key_id=aws_access_key_id,\n",
    "        aws_secret_access_key=aws_secret_access_key,\n",
    "    )\n",
    "\n",
    "def create_s3_client(aws_access_key_id, aws_secret_access_key):\n",
    "    return boto3.client(\n",
    "        's3',\n",
    "        aws_access_key_id=aws_access_key_id,\n",
    "        aws_secret_access_key=aws_secret_access_key\n",
    "    )"
   ]
  },
  {
   "cell_type": "markdown",
   "metadata": {
    "application/vnd.databricks.v1+cell": {
     "cellMetadata": {
      "byteLimit": 2048000,
      "rowLimit": 10000
     },
     "inputWidgets": {},
     "nuid": "daed4cf3-2e41-4c78-b039-cd447ead6c52",
     "showTitle": false,
     "title": ""
    }
   },
   "source": [
    "Step 1: Create an IAM Role with an Inline Policy for S3 `Access`"
   ]
  },
  {
   "cell_type": "code",
   "execution_count": 0,
   "metadata": {
    "application/vnd.databricks.v1+cell": {
     "cellMetadata": {
      "byteLimit": 2048000,
      "rowLimit": 10000
     },
     "inputWidgets": {},
     "nuid": "3bdc20ec-6c5e-4d2d-aebf-6ac3863bd688",
     "showTitle": false,
     "title": ""
    }
   },
   "outputs": [],
   "source": [
    "def setup_iam_s3_access(aws_access_key_id, aws_secret_access_key, iam_role_for_s3_access, policy_name, s3_bucket_name):\n",
    "    # Step 1: Create IAM role for EC2\n",
    "    create_iam_client(aws_access_key_id, aws_secret_access_key)\n",
    "    assume_role_policy = {\n",
    "        \"Version\": \"2012-10-17\",\n",
    "        \"Statement\": [\n",
    "            {\n",
    "                \"Effect\": \"Allow\",\n",
    "                \"Principal\": {\n",
    "                    \"Service\": \"ec2.amazonaws.com\"\n",
    "                },\n",
    "                \"Action\": \"sts:AssumeRole\"\n",
    "            }\n",
    "        ]\n",
    "    }\n",
    "    # Check if the role already exists\n",
    "    try:\n",
    "        iam_client=create_iam_client(aws_access_key_id, aws_secret_access_key)\n",
    "        iam_client.get_role(RoleName=iam_role_for_s3_access)\n",
    "        print(f\"Role {iam_role_for_s3_access} already exists.\")\n",
    "    except iam_client.exceptions.NoSuchEntityException:\n",
    "        # Create the role if it does not exist\n",
    "        create_role_response = iam_client.create_role(\n",
    "            RoleName=iam_role_for_s3_access,\n",
    "            AssumeRolePolicyDocument=json.dumps(assume_role_policy)\n",
    "        )\n",
    "        role_arn = create_role_response['Role']['Arn']\n",
    "        print(f\"Role ARN: {role_arn}\")\n",
    "    # Step 2: Create inline policy for S3 access\n",
    "    s3_policy = {\n",
    "        \"Version\": \"2012-10-17\",\n",
    "        \"Statement\": [\n",
    "            {\n",
    "                \"Effect\": \"Allow\",\n",
    "                \"Action\": [\"s3:ListBucket\"],\n",
    "                \"Resource\": [f\"arn:aws:s3:::{s3_bucket_name}\"]\n",
    "            },\n",
    "            {\n",
    "                \"Effect\": \"Allow\",\n",
    "                \"Action\": [\"s3:PutObject\", \"s3:GetObject\", \"s3:DeleteObject\", \"s3:PutObjectAcl\"],\n",
    "                \"Resource\": [f\"arn:aws:s3:::{s3_bucket_name}/*\"]\n",
    "            }\n",
    "        ]\n",
    "    }\n",
    "    # Add the inline policy to the role\n",
    "    iam_client.put_role_policy(\n",
    "        RoleName=iam_role_for_s3_access,\n",
    "        PolicyName=policy_name,\n",
    "        PolicyDocument=json.dumps(s3_policy)\n",
    "    )\n",
    "    print(\"S3 access policy added to role.\")"
   ]
  },
  {
   "cell_type": "markdown",
   "metadata": {
    "application/vnd.databricks.v1+cell": {
     "cellMetadata": {
      "byteLimit": 2048000,
      "rowLimit": 10000
     },
     "inputWidgets": {},
     "nuid": "90f0f88b-0178-4d65-8cdd-9a7d68ce81d9",
     "showTitle": false,
     "title": ""
    }
   },
   "source": [
    "Step 2: Enable Policy for Serverless Resources\n"
   ]
  },
  {
   "cell_type": "markdown",
   "metadata": {
    "application/vnd.databricks.v1+cell": {
     "cellMetadata": {
      "byteLimit": 2048000,
      "rowLimit": 10000
     },
     "inputWidgets": {},
     "nuid": "e21affee-abff-4a7b-b12d-034ec01ac354",
     "showTitle": false,
     "title": ""
    }
   },
   "source": []
  },
  {
   "cell_type": "code",
   "execution_count": 0,
   "metadata": {
    "application/vnd.databricks.v1+cell": {
     "cellMetadata": {
      "byteLimit": 2048000,
      "rowLimit": 10000
     },
     "inputWidgets": {},
     "nuid": "6e8bebc2-2b88-4177-8935-73878b6ee067",
     "showTitle": false,
     "title": ""
    }
   },
   "outputs": [],
   "source": [
    "def update_trust_policy(iam_role_for_s3_access, workspace_id):\n",
    "    trust_policy_extension = {\n",
    "        \"Effect\": \"Allow\",\n",
    "        \"Principal\": {\n",
    "            \"AWS\": \"arn:aws:iam::790110701330:role/serverless-customer-resource-role\"\n",
    "        },\n",
    "        \"Action\": \"sts:AssumeRole\",\n",
    "        \"Condition\": {\n",
    "            \"StringEquals\": {\n",
    "                \"sts:ExternalId\": f\"databricks-serverless-{workspace_id}\"\n",
    "            }\n",
    "        }\n",
    "    }\n",
    "    # Get existing trust policy\n",
    "    iam_client = create_iam_client(aws_access_key_id, aws_secret_access_key)\n",
    "    current_trust_policy = iam_client.get_role(RoleName=iam_role_for_s3_access)['Role']['AssumeRolePolicyDocument']\n",
    "    # Append new trust policy\n",
    "    if trust_policy_extension not in current_trust_policy['Statement']:\n",
    "        current_trust_policy['Statement'].append(trust_policy_extension)\n",
    "        # Update the role's trust policy\n",
    "        iam_client.update_assume_role_policy(\n",
    "            RoleName=iam_role_for_s3_access,\n",
    "            PolicyDocument=json.dumps(current_trust_policy)\n",
    "        )\n",
    "        print(\"Trust policy updated for serverless resources.\")\n",
    "    else:\n",
    "        print(\"Trust policy extension already exists.\")"
   ]
  },
  {
   "cell_type": "markdown",
   "metadata": {
    "application/vnd.databricks.v1+cell": {
     "cellMetadata": {
      "byteLimit": 2048000,
      "rowLimit": 10000
     },
     "inputWidgets": {},
     "nuid": "6cd213a2-19f8-46ca-b707-f4b54989866b",
     "showTitle": false,
     "title": ""
    }
   },
   "source": [
    "Step 3: Create the S3 Bucket Policy\n"
   ]
  },
  {
   "cell_type": "code",
   "execution_count": 0,
   "metadata": {
    "application/vnd.databricks.v1+cell": {
     "cellMetadata": {
      "byteLimit": 2048000,
      "rowLimit": 10000
     },
     "inputWidgets": {},
     "nuid": "5426cab2-3b4e-4762-9f67-f64310ad6740",
     "showTitle": false,
     "title": ""
    }
   },
   "outputs": [],
   "source": [
    "def update_s3_bucket_policy(aws_account_id, iam_role_for_s3_access, s3_bucket_name):\n",
    "    bucket_policy = {\n",
    "        \"Version\": \"2012-10-17\",\n",
    "        \"Statement\": [\n",
    "            {\n",
    "                \"Sid\": \"AllowS3Read\",\n",
    "                \"Effect\": \"Allow\",\n",
    "                \"Principal\": {\n",
    "                    \"AWS\": f\"arn:aws:iam::{aws_account_id}:role/{iam_role_for_s3_access}\"\n",
    "                },\n",
    "                \"Action\": [\"s3:GetBucketLocation\", \"s3:ListBucket\"],\n",
    "                \"Resource\": f\"arn:aws:s3:::{s3_bucket_name}\"\n",
    "            },\n",
    "            {\n",
    "                \"Sid\": \"AllowS3RW\",\n",
    "                \"Effect\": \"Allow\",\n",
    "                \"Principal\": {\n",
    "                    \"AWS\": f\"arn:aws:iam::{aws_account_id}:role/{iam_role_for_s3_access}\"\n",
    "                },\n",
    "                \"Action\": [\"s3:PutObject\", \"s3:GetObject\", \"s3:DeleteObject\", \"s3:PutObjectAcl\"],\n",
    "                \"Resource\": f\"arn:aws:s3:::{s3_bucket_name}/*\"\n",
    "            }\n",
    "        ]\n",
    "    }\n",
    "    s3_client=create_s3_client(aws_access_key_id, aws_secret_access_key)\n",
    "    \n",
    "    # Check if bucket policy already exists\n",
    "    try:\n",
    "        existing_policy = s3_client.get_bucket_policy(Bucket=s3_bucket_name)\n",
    "        if existing_policy:\n",
    "            print(\"Bucket policy already exists.\")\n",
    "            return\n",
    "    except:\n",
    "        pass\n",
    "    \n",
    "    # Update the bucket policy\n",
    "    s3_client.put_bucket_policy(\n",
    "        Bucket=s3_bucket_name,\n",
    "        Policy=json.dumps(bucket_policy)\n",
    "    )\n",
    "\n",
    "    print(\"S3 bucket policy updated.\")"
   ]
  },
  {
   "cell_type": "markdown",
   "metadata": {
    "application/vnd.databricks.v1+cell": {
     "cellMetadata": {
      "byteLimit": 2048000,
      "rowLimit": 10000
     },
     "inputWidgets": {},
     "nuid": "7881434c-f02a-4919-8c78-af902f8105f4",
     "showTitle": false,
     "title": ""
    }
   },
   "source": [
    "Step 4: Add S3 Role to Databricks IAM Role\n"
   ]
  },
  {
   "cell_type": "code",
   "execution_count": 0,
   "metadata": {
    "application/vnd.databricks.v1+cell": {
     "cellMetadata": {
      "byteLimit": 2048000,
      "rowLimit": 10000
     },
     "inputWidgets": {},
     "nuid": "0e8bab5f-c9da-4369-9eeb-bf26071ea806",
     "showTitle": false,
     "title": ""
    }
   },
   "outputs": [],
   "source": [
    "def update_iam_policies_for_databricks(aws_account_id, iam_role_for_s3_access, databricks_role_name):\n",
    "    iam_client=create_iam_client(aws_access_key_id, aws_secret_access_key)\n",
    "    try:\n",
    "        # Get attached policies for the specified role\n",
    "\n",
    "        attached_policies = iam_client.list_attached_role_policies(RoleName=databricks_role_name)\n",
    "        if attached_policies['AttachedPolicies']:\n",
    "            print(\"Attached policies found for the role.\")\n",
    "            for policy in attached_policies['AttachedPolicies']:\n",
    "                policy_arn = policy['PolicyArn']\n",
    "                print(f\"PolicyName: {policy['PolicyName']}, PolicyArn: {policy_arn}\")\n",
    "                # Get the current policy document\n",
    "                policy_version = iam_client.get_policy(PolicyArn=policy_arn)\n",
    "                policy_document = iam_client.get_policy_version(\n",
    "                    PolicyArn=policy_arn,\n",
    "                    VersionId=policy_version['Policy']['DefaultVersionId']\n",
    "                )\n",
    "                policy_doc = policy_document['PolicyVersion']['Document']\n",
    "                # Define the new statement to add\n",
    "                new_statement = {\n",
    "                    \"Effect\": \"Allow\",\n",
    "                    \"Action\": \"iam:PassRole\",\n",
    "                    \"Resource\": f\"arn:aws:iam::{aws_account_id}:role/{iam_role_for_s3_access}\"\n",
    "                }\n",
    "\n",
    "                # Append new statement if it doesn't exist\n",
    "                if new_statement not in policy_doc.get('Statement', []):\n",
    "                    policy_doc['Statement'].append(new_statement)\n",
    "\n",
    "                    # Create a new version of the policy\n",
    "                    iam_client.create_policy_version(\n",
    "                        PolicyArn=policy_arn,\n",
    "                        PolicyDocument=json.dumps(policy_doc),\n",
    "                        SetAsDefault=True\n",
    "                    )\n",
    "                    print(f\"Policy updated with new statement: {new_statement}\")\n",
    "                else:\n",
    "                    print(\"The statement already exists in the policy.\")\n",
    "        else:\n",
    "            print(\"Attached policies found for the role.\")\n",
    "\n",
    "        # Get inline policies for the specified role\n",
    "        inline_policies = iam_client.list_role_policies(RoleName=databricks_role_name)\n",
    "        if inline_policies['PolicyNames']:\n",
    "            print(\"\\nInline Policies:\")\n",
    "            for policy_name in inline_policies['PolicyNames']:\n",
    "                print(f\"PolicyName: {policy_name}\")\n",
    "\n",
    "                # Get the current inline policy document\n",
    "                policy_document = iam_client.get_role_policy(\n",
    "                    RoleName=databricks_role_name,\n",
    "                    PolicyName=policy_name\n",
    "                )\n",
    "                policy_doc = policy_document['PolicyDocument']\n",
    "\n",
    "                # Define the new statement to add\n",
    "                new_statement = {\n",
    "                    \"Effect\": \"Allow\",\n",
    "                    \"Action\": \"iam:PassRole\",\n",
    "                    \"Resource\": f\"arn:aws:iam::{aws_account_id}:role/{iam_role_for_s3_access}\"\n",
    "                }\n",
    "                # Append new statement if it doesn't exist\n",
    "                if new_statement not in policy_doc.get('Statement', []):\n",
    "                    policy_doc['Statement'].append(new_statement)\n",
    "\n",
    "                    # Update the inline policy\n",
    "                    iam_client.put_role_policy(\n",
    "                        RoleName=databricks_role_name,\n",
    "                        PolicyName=policy_name,\n",
    "                        PolicyDocument=json.dumps(policy_doc)\n",
    "                    )\n",
    "                    print(f\"Inline policy updated with new statement: {new_statement}\")\n",
    "                else:\n",
    "                    print(\"The statement already exists in the inline policy.\")\n",
    "        else:\n",
    "            print(\"No inline policies found for the role.\")\n",
    "        print(\"Databricks deployment role updated successfully.\")\n",
    "    except Exception as e:\n",
    "        print(f\"Error updating policy: {str(e)}\")"
   ]
  },
  {
   "cell_type": "markdown",
   "metadata": {
    "application/vnd.databricks.v1+cell": {
     "cellMetadata": {
      "byteLimit": 2048000,
      "rowLimit": 10000
     },
     "inputWidgets": {},
     "nuid": "2448e977-6b75-40ae-8b0f-945a8161d88e",
     "showTitle": false,
     "title": ""
    }
   },
   "source": [
    "Step 5: Add the Instance Profile to Databricks\n"
   ]
  },
  {
   "cell_type": "code",
   "execution_count": 0,
   "metadata": {
    "application/vnd.databricks.v1+cell": {
     "cellMetadata": {
      "byteLimit": 2048000,
      "rowLimit": 10000
     },
     "inputWidgets": {},
     "nuid": "83c61c59-6080-40b4-8353-74d58b9e779a",
     "showTitle": false,
     "title": ""
    }
   },
   "outputs": [],
   "source": [
    "def add_instance_profile_to_databricks(aws_access_key_id, aws_secret_access_key, iam_role_for_s3_access, DATABRICKS_INSTANCE, DATABRICKS_TOKEN):\n",
    "    import time\n",
    "    import requests\n",
    "\n",
    "    iam_client = create_iam_client(aws_access_key_id, aws_secret_access_key)\n",
    "    instance_profile = None  # Define an empty instance_profile variable\n",
    "\n",
    "    try:\n",
    "        create_instance_profile_response = iam_client.create_instance_profile(\n",
    "            InstanceProfileName=iam_role_for_s3_access\n",
    "        )\n",
    "        instance_profile_arn = create_instance_profile_response['InstanceProfile']['Arn']\n",
    "        print(f\"Instance Profile ARN: {instance_profile_arn}\")\n",
    "        instance_profile = create_instance_profile_response  # Update instance_profile with the response\n",
    "    except iam_client.exceptions.EntityAlreadyExistsException:\n",
    "        instance_profile = iam_client.get_instance_profile(\n",
    "            InstanceProfileName=iam_role_for_s3_access\n",
    "        )\n",
    "        instance_profile_arn = instance_profile['InstanceProfile']['Arn']\n",
    "        print(f\"Instance Profile ARN (existing): {instance_profile_arn}\")\n",
    "\n",
    "    if instance_profile:  # Check if instance_profile is not None\n",
    "        roles = [role['RoleName'] for role in instance_profile['InstanceProfile']['Roles']]\n",
    "        if iam_role_for_s3_access not in roles:\n",
    "            iam_client.add_role_to_instance_profile(\n",
    "                InstanceProfileName=iam_role_for_s3_access,\n",
    "                RoleName=iam_role_for_s3_access\n",
    "            )\n",
    "\n",
    "    url = f'https://{DATABRICKS_INSTANCE}/api/2.0/instance-profiles/add'\n",
    "    headers = {\n",
    "        'Authorization': f'Bearer {DATABRICKS_TOKEN}',\n",
    "        'Content-Type': 'application/json'\n",
    "    }\n",
    "    payload = {\n",
    "        'instance_profile_arn': instance_profile_arn\n",
    "    }\n",
    "\n",
    "    max_retries = 3\n",
    "    for attempt in range(max_retries):\n",
    "        response = requests.post(url, headers=headers, json=payload)\n",
    "        if response.status_code == 200:\n",
    "            print(\"Instance profile added successfully.\")\n",
    "            break\n",
    "        elif response.status_code == 400 and \"already been added\" in response.text:\n",
    "            print(\"Instance profile already added to Databricks.\")\n",
    "            break\n",
    "        else:\n",
    "            print(f\"Attempt {attempt + 1} failed: {response.text}\")\n",
    "            if attempt < max_retries - 1:\n",
    "                print(\"Retrying...\")\n",
    "                time.sleep(10)  # Wait for 10 seconds before retrying\n",
    "            else:\n",
    "                print(\"Failed to add instance profile after multiple attempts.\")"
   ]
  },
  {
   "cell_type": "code",
   "execution_count": 0,
   "metadata": {
    "application/vnd.databricks.v1+cell": {
     "cellMetadata": {
      "byteLimit": 2048000,
      "rowLimit": 10000
     },
     "inputWidgets": {},
     "nuid": "3a27db57-2a80-464b-aa11-38742501c83f",
     "showTitle": false,
     "title": ""
    }
   },
   "outputs": [],
   "source": [
    "create_iam_client(aws_access_key_id, aws_secret_access_key)\n",
    "create_s3_client(aws_access_key_id, aws_secret_access_key)\n",
    "setup_iam_s3_access(aws_access_key_id, aws_secret_access_key, iam_role_for_s3_access, policy_name, s3_bucket_name)\n",
    "update_trust_policy(iam_role_for_s3_access,workspace_id)\n",
    "update_s3_bucket_policy(aws_account_id, iam_role_for_s3_access, s3_bucket_name)\n",
    "update_iam_policies_for_databricks(aws_account_id, iam_role_for_s3_access, databricks_role_name)\n",
    "add_instance_profile_to_databricks(aws_access_key_id, aws_secret_access_key, iam_role_for_s3_access, DATABRICKS_INSTANCE, DATABRICKS_TOKEN)\n"
   ]
  },
  {
   "cell_type": "code",
   "execution_count": 0,
   "metadata": {
    "application/vnd.databricks.v1+cell": {
     "cellMetadata": {
      "byteLimit": 2048000,
      "rowLimit": 10000
     },
     "inputWidgets": {},
     "nuid": "fb25a555-c2fb-401a-a3f1-372c5bb3fb7a",
     "showTitle": false,
     "title": ""
    }
   },
   "outputs": [],
   "source": []
  },
  {
   "cell_type": "code",
   "execution_count": 0,
   "metadata": {
    "application/vnd.databricks.v1+cell": {
     "cellMetadata": {
      "byteLimit": 2048000,
      "rowLimit": 10000
     },
     "inputWidgets": {},
     "nuid": "f57e41e0-9675-491e-bae9-e8dc50f1b905",
     "showTitle": false,
     "title": ""
    }
   },
   "outputs": [],
   "source": []
  },
  {
   "cell_type": "code",
   "execution_count": 0,
   "metadata": {
    "application/vnd.databricks.v1+cell": {
     "cellMetadata": {
      "byteLimit": 2048000,
      "rowLimit": 10000
     },
     "inputWidgets": {},
     "nuid": "793fc3fc-31b3-46e5-9e07-8545657aa0ab",
     "showTitle": false,
     "title": ""
    }
   },
   "outputs": [],
   "source": []
  },
  {
   "cell_type": "code",
   "execution_count": 0,
   "metadata": {
    "application/vnd.databricks.v1+cell": {
     "cellMetadata": {
      "byteLimit": 2048000,
      "rowLimit": 10000
     },
     "inputWidgets": {},
     "nuid": "f52426c2-fad5-47bb-9671-17260fb9014f",
     "showTitle": false,
     "title": ""
    }
   },
   "outputs": [],
   "source": [
    "df=spark.read.csv(\"s3://ucccc1/Creator_2024-09-19_2024-10-18 (1).csv\")\n",
    "df.display()"
   ]
  },
  {
   "cell_type": "code",
   "execution_count": 0,
   "metadata": {
    "application/vnd.databricks.v1+cell": {
     "cellMetadata": {
      "byteLimit": 2048000,
      "rowLimit": 10000
     },
     "inputWidgets": {},
     "nuid": "6d942b24-44c6-4b04-8796-fd2fe9ee7b58",
     "showTitle": false,
     "title": ""
    }
   },
   "outputs": [],
   "source": []
  }
 ],
 "metadata": {
  "application/vnd.databricks.v1+notebook": {
   "dashboards": [],
   "environmentMetadata": {
    "base_environment": "",
    "client": "1"
   },
   "language": "python",
   "notebookMetadata": {
    "pythonIndentUnit": 4
   },
   "notebookName": "(Clone) create_instance_profile",
   "widgets": {}
  }
 },
 "nbformat": 4,
 "nbformat_minor": 0
}
